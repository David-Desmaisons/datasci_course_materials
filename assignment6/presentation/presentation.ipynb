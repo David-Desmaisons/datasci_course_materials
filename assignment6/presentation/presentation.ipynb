{
 "cells": [
  {
   "cell_type": "markdown",
   "metadata": {
    "slideshow": {
     "slide_type": "-"
    }
   },
   "source": [
    "# Crime Increases in early evenings during Summer Months in San Francisco\n",
    "\n",
    "\n",
    "We analyzed crime patterns daily pattern in San-Francisco during summer 2014. We were able to demostrate that crime are most likely to happen around 18:00 for this period."
   ]
  }
 ],
 "metadata": {
  "kernelspec": {
   "display_name": "Python 3",
   "language": "python",
   "name": "python3"
  },
  "language_info": {
   "codemirror_mode": {
    "name": "ipython",
    "version": 3
   },
   "file_extension": ".py",
   "mimetype": "text/x-python",
   "name": "python",
   "nbconvert_exporter": "python",
   "pygments_lexer": "ipython3",
   "version": "3.5.1"
  }
 },
 "nbformat": 4,
 "nbformat_minor": 0
}
